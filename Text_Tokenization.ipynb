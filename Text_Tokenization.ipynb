{
  "nbformat": 4,
  "nbformat_minor": 0,
  "metadata": {
    "colab": {
      "provenance": [],
      "authorship_tag": "ABX9TyPK1bK0D3AEXGFpE0eOWw+d",
      "include_colab_link": true
    },
    "kernelspec": {
      "name": "python3",
      "display_name": "Python 3"
    },
    "language_info": {
      "name": "python"
    }
  },
  "cells": [
    {
      "cell_type": "markdown",
      "metadata": {
        "id": "view-in-github",
        "colab_type": "text"
      },
      "source": [
        "<a href=\"https://colab.research.google.com/github/Varshika-5a4/FML/blob/main/Text_Tokenization.ipynb\" target=\"_parent\"><img src=\"https://colab.research.google.com/assets/colab-badge.svg\" alt=\"Open In Colab\"/></a>"
      ]
    },
    {
      "cell_type": "markdown",
      "source": [
        "# Tokenization using split()"
      ],
      "metadata": {
        "id": "qKvUmVfNToH3"
      }
    },
    {
      "cell_type": "code",
      "source": [
        "text = '''the punishment assigned to a defendant found guilty by a court. Or fixed by law for a particular offence.'''\n",
        "tokens = text.split()\n",
        "print(tokens)\n",
        "print(\"No of tokens : \",len(tokens))"
      ],
      "metadata": {
        "colab": {
          "base_uri": "https://localhost:8080/"
        },
        "id": "vfbrOJCsTyE2",
        "outputId": "550aeb9f-8d31-46b5-d695-ccd7dc7277c5"
      },
      "execution_count": 1,
      "outputs": [
        {
          "output_type": "stream",
          "name": "stdout",
          "text": [
            "['the', 'punishment', 'assigned', 'to', 'a', 'defendant', 'found', 'guilty', 'by', 'a', 'court.', 'Or', 'fixed', 'by', 'law', 'for', 'a', 'particular', 'offence.']\n",
            "No of tokens :  19\n"
          ]
        }
      ]
    },
    {
      "cell_type": "code",
      "source": [
        "text = '''the punishment assigned to a defendant found guilty by a court. Or fixed by law for a particular offence'''\n",
        "sentences = text.split('.')\n",
        "print(sentences)\n",
        "print(\"No of sentences : \",len(sentences))"
      ],
      "metadata": {
        "colab": {
          "base_uri": "https://localhost:8080/"
        },
        "id": "7yZGB-q9T5AG",
        "outputId": "39854eaa-6eef-4ac1-af12-523b1cd504dc"
      },
      "execution_count": 2,
      "outputs": [
        {
          "output_type": "stream",
          "name": "stdout",
          "text": [
            "['the punishment assigned to a defendant found guilty by a court', ' Or fixed by law for a particular offence']\n",
            "No of sentences :  2\n"
          ]
        }
      ]
    },
    {
      "cell_type": "markdown",
      "source": [
        "# Tokenization using Regular Expressions"
      ],
      "metadata": {
        "id": "9-4jTNWCT_wb"
      }
    },
    {
      "cell_type": "code",
      "source": [
        "import re"
      ],
      "metadata": {
        "id": "KwWtc4zVUHi0"
      },
      "execution_count": 3,
      "outputs": []
    },
    {
      "cell_type": "code",
      "source": [
        "tokens = re.findall(\"[\\w']+\",text)\n",
        "print(tokens)\n",
        "print(\"No of tokens : \",len(tokens))"
      ],
      "metadata": {
        "colab": {
          "base_uri": "https://localhost:8080/"
        },
        "id": "znbDG5WIUKUK",
        "outputId": "692bb934-4abe-4e34-da89-242c274bd166"
      },
      "execution_count": 4,
      "outputs": [
        {
          "output_type": "stream",
          "name": "stdout",
          "text": [
            "['the', 'punishment', 'assigned', 'to', 'a', 'defendant', 'found', 'guilty', 'by', 'a', 'court', 'Or', 'fixed', 'by', 'law', 'for', 'a', 'particular', 'offence']\n",
            "No of tokens :  19\n"
          ]
        }
      ]
    },
    {
      "cell_type": "code",
      "source": [
        "sentences = re.compile('[.?!] ').split(text)\n",
        "print(sentences)\n",
        "print(\"No of sentences : \",len(sentences))\n",
        "     "
      ],
      "metadata": {
        "colab": {
          "base_uri": "https://localhost:8080/"
        },
        "id": "Wzud9eniUNAS",
        "outputId": "c977653d-f46f-4f8c-9038-5dd4b33ed0c3"
      },
      "execution_count": 5,
      "outputs": [
        {
          "output_type": "stream",
          "name": "stdout",
          "text": [
            "['the punishment assigned to a defendant found guilty by a court', 'Or fixed by law for a particular offence']\n",
            "No of sentences :  2\n"
          ]
        }
      ]
    },
    {
      "cell_type": "code",
      "source": [
        "!pip install --user -U nltk"
      ],
      "metadata": {
        "colab": {
          "base_uri": "https://localhost:8080/"
        },
        "id": "t551004yUQSu",
        "outputId": "8663bebe-17aa-43a1-d422-18d339da7a30"
      },
      "execution_count": 6,
      "outputs": [
        {
          "output_type": "stream",
          "name": "stdout",
          "text": [
            "Looking in indexes: https://pypi.org/simple, https://us-python.pkg.dev/colab-wheels/public/simple/\n",
            "Requirement already satisfied: nltk in /usr/local/lib/python3.10/dist-packages (3.8.1)\n",
            "Requirement already satisfied: click in /usr/local/lib/python3.10/dist-packages (from nltk) (8.1.3)\n",
            "Requirement already satisfied: joblib in /usr/local/lib/python3.10/dist-packages (from nltk) (1.2.0)\n",
            "Requirement already satisfied: regex>=2021.8.3 in /usr/local/lib/python3.10/dist-packages (from nltk) (2022.10.31)\n",
            "Requirement already satisfied: tqdm in /usr/local/lib/python3.10/dist-packages (from nltk) (4.65.0)\n"
          ]
        }
      ]
    },
    {
      "cell_type": "code",
      "source": [
        "import nltk\n",
        "nltk.download('punkt')"
      ],
      "metadata": {
        "colab": {
          "base_uri": "https://localhost:8080/"
        },
        "id": "j1o6pydKUUMC",
        "outputId": "76053621-c69e-4afe-cdf5-92d560160a6d"
      },
      "execution_count": 7,
      "outputs": [
        {
          "output_type": "stream",
          "name": "stderr",
          "text": [
            "[nltk_data] Downloading package punkt to /root/nltk_data...\n",
            "[nltk_data]   Unzipping tokenizers/punkt.zip.\n"
          ]
        },
        {
          "output_type": "execute_result",
          "data": {
            "text/plain": [
              "True"
            ]
          },
          "metadata": {},
          "execution_count": 7
        }
      ]
    },
    {
      "cell_type": "code",
      "source": [
        "from nltk.tokenize import word_tokenize \n",
        "tokens = word_tokenize(text)\n",
        "print(tokens)\n",
        "print(\"No.of tokens : \", len(tokens))"
      ],
      "metadata": {
        "colab": {
          "base_uri": "https://localhost:8080/"
        },
        "id": "VNRtrBC_UYKt",
        "outputId": "c0d935a8-b1f5-45bf-b155-048a06c42a25"
      },
      "execution_count": 8,
      "outputs": [
        {
          "output_type": "stream",
          "name": "stdout",
          "text": [
            "['the', 'punishment', 'assigned', 'to', 'a', 'defendant', 'found', 'guilty', 'by', 'a', 'court', '.', 'Or', 'fixed', 'by', 'law', 'for', 'a', 'particular', 'offence']\n",
            "No.of tokens :  20\n"
          ]
        }
      ]
    },
    {
      "cell_type": "code",
      "source": [
        "#sentence tokenization\n",
        "from nltk.tokenize import sent_tokenize\n",
        "sentences = sent_tokenize(text)\n",
        "print(sentences)\n",
        "print(\"No.of sentences : \", len(sentences))"
      ],
      "metadata": {
        "colab": {
          "base_uri": "https://localhost:8080/"
        },
        "id": "1ndySDmRUbAO",
        "outputId": "09188895-07c4-42e0-9da8-616009135ce3"
      },
      "execution_count": 9,
      "outputs": [
        {
          "output_type": "stream",
          "name": "stdout",
          "text": [
            "['the punishment assigned to a defendant found guilty by a court.', 'Or fixed by law for a particular offence']\n",
            "No.of sentences :  2\n"
          ]
        }
      ]
    },
    {
      "cell_type": "markdown",
      "source": [
        "# Tokenization using NLTK()"
      ],
      "metadata": {
        "id": "Kvl8nAPqUepl"
      }
    },
    {
      "cell_type": "code",
      "source": [
        "import nltk\n",
        "nltk.download('punkt')"
      ],
      "metadata": {
        "colab": {
          "base_uri": "https://localhost:8080/"
        },
        "id": "Nvu1A0fCUi2m",
        "outputId": "423c1753-ae30-4950-8e99-f4a08e54a6d3"
      },
      "execution_count": 10,
      "outputs": [
        {
          "output_type": "stream",
          "name": "stderr",
          "text": [
            "[nltk_data] Downloading package punkt to /root/nltk_data...\n",
            "[nltk_data]   Package punkt is already up-to-date!\n"
          ]
        },
        {
          "output_type": "execute_result",
          "data": {
            "text/plain": [
              "True"
            ]
          },
          "metadata": {},
          "execution_count": 10
        }
      ]
    },
    {
      "cell_type": "code",
      "source": [
        "from nltk.tokenize import word_tokenize\n",
        "tokens = word_tokenize(text)\n",
        "print(tokens)\n",
        "print(\"No.of tokens : \", len(tokens))"
      ],
      "metadata": {
        "colab": {
          "base_uri": "https://localhost:8080/"
        },
        "id": "0vaBHgyrUmCi",
        "outputId": "989ad03f-e2f8-4504-f09c-8906641caa4f"
      },
      "execution_count": 11,
      "outputs": [
        {
          "output_type": "stream",
          "name": "stdout",
          "text": [
            "['the', 'punishment', 'assigned', 'to', 'a', 'defendant', 'found', 'guilty', 'by', 'a', 'court', '.', 'Or', 'fixed', 'by', 'law', 'for', 'a', 'particular', 'offence']\n",
            "No.of tokens :  20\n"
          ]
        }
      ]
    },
    {
      "cell_type": "code",
      "source": [
        "from nltk.tokenize import sent_tokenize\n",
        "sentences = sent_tokenize(text)\n",
        "print(sentences)\n",
        "print(\"No.of sentences : \", len(sentences))"
      ],
      "metadata": {
        "colab": {
          "base_uri": "https://localhost:8080/"
        },
        "id": "7MNKowC2Uqeo",
        "outputId": "c5d4cb13-356e-4b94-b37c-2196afb4feab"
      },
      "execution_count": 12,
      "outputs": [
        {
          "output_type": "stream",
          "name": "stdout",
          "text": [
            "['the punishment assigned to a defendant found guilty by a court.', 'Or fixed by law for a particular offence']\n",
            "No.of sentences :  2\n"
          ]
        }
      ]
    }
  ]
}