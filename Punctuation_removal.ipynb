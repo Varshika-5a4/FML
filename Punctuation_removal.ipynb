{
  "nbformat": 4,
  "nbformat_minor": 0,
  "metadata": {
    "colab": {
      "provenance": [],
      "authorship_tag": "ABX9TyOBjZnyMcmYNvg6Dx12XveR",
      "include_colab_link": true
    },
    "kernelspec": {
      "name": "python3",
      "display_name": "Python 3"
    },
    "language_info": {
      "name": "python"
    }
  },
  "cells": [
    {
      "cell_type": "markdown",
      "metadata": {
        "id": "view-in-github",
        "colab_type": "text"
      },
      "source": [
        "<a href=\"https://colab.research.google.com/github/Varshika-5a4/FML/blob/main/Punctuation_removal.ipynb\" target=\"_parent\"><img src=\"https://colab.research.google.com/assets/colab-badge.svg\" alt=\"Open In Colab\"/></a>"
      ]
    },
    {
      "cell_type": "code",
      "execution_count": 1,
      "metadata": {
        "colab": {
          "base_uri": "https://localhost:8080/"
        },
        "id": "9c7d-24MWoB8",
        "outputId": "b17d2ebf-a243-4523-c0ce-e60c9511041a"
      },
      "outputs": [
        {
          "output_type": "stream",
          "name": "stdout",
          "text": [
            "I don t often go swimming  I prefer to play tennis \n"
          ]
        }
      ],
      "source": [
        "import re\n",
        "text =  '''I don't often go swimming; I prefer to play tennis.'''\n",
        "remove = re.sub(r'[^\\w\\s]',' ',text)\n",
        "print(remove)"
      ]
    }
  ]
}