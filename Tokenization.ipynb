{
  "nbformat": 4,
  "nbformat_minor": 0,
  "metadata": {
    "colab": {
      "provenance": [],
      "authorship_tag": "ABX9TyOK29YeZQzBI6f/Uc0gAPTm",
      "include_colab_link": true
    },
    "kernelspec": {
      "name": "python3",
      "display_name": "Python 3"
    },
    "language_info": {
      "name": "python"
    }
  },
  "cells": [
    {
      "cell_type": "markdown",
      "metadata": {
        "id": "view-in-github",
        "colab_type": "text"
      },
      "source": [
        "<a href=\"https://colab.research.google.com/github/Varshika-5a4/FML/blob/main/Tokenization.ipynb\" target=\"_parent\"><img src=\"https://colab.research.google.com/assets/colab-badge.svg\" alt=\"Open In Colab\"/></a>"
      ]
    },
    {
      "cell_type": "markdown",
      "source": [
        "Tokenization using **split**"
      ],
      "metadata": {
        "id": "o9evUIWWuDlC"
      }
    },
    {
      "cell_type": "code",
      "source": [
        "text = '''the punishment assigned to a defendant found guilty by a court. Or fixed by law for a particular offence.'''\n",
        "tokens = text.split()\n",
        "print(tokens)\n",
        "print(\"No of tokens : \",len(tokens))"
      ],
      "metadata": {
        "colab": {
          "base_uri": "https://localhost:8080/"
        },
        "id": "45pIAiBCuKn2",
        "outputId": "1400b132-90c1-4900-90fe-ca0a7d0c5d58"
      },
      "execution_count": 1,
      "outputs": [
        {
          "output_type": "stream",
          "name": "stdout",
          "text": [
            "['the', 'punishment', 'assigned', 'to', 'a', 'defendant', 'found', 'guilty', 'by', 'a', 'court.', 'Or', 'fixed', 'by', 'law', 'for', 'a', 'particular', 'offence.']\n",
            "No of tokens :  19\n"
          ]
        }
      ]
    },
    {
      "cell_type": "code",
      "source": [
        "text = '''the punishment assigned to a defendant found guilty by a court. Or fixed by law for a particular offence'''\n",
        "sentences = text.split('.')\n",
        "print(sentences)\n",
        "print(\"No of sentences : \",len(sentences))"
      ],
      "metadata": {
        "colab": {
          "base_uri": "https://localhost:8080/"
        },
        "id": "L7QtGgCvuOwi",
        "outputId": "0f0fc1ff-83c7-46f8-e547-e6e7027837df"
      },
      "execution_count": 2,
      "outputs": [
        {
          "output_type": "stream",
          "name": "stdout",
          "text": [
            "['the punishment assigned to a defendant found guilty by a court', ' Or fixed by law for a particular offence']\n",
            "No of sentences :  2\n"
          ]
        }
      ]
    },
    {
      "cell_type": "markdown",
      "source": [
        "Tokenization using Regular Expressions"
      ],
      "metadata": {
        "id": "5JAc4dFauZtq"
      }
    },
    {
      "cell_type": "code",
      "source": [
        "import re\n",
        "     "
      ],
      "metadata": {
        "id": "WJuWjoOyujYl"
      },
      "execution_count": 3,
      "outputs": []
    },
    {
      "cell_type": "code",
      "source": [
        "tokens = re.findall(\"[\\w']+\",text)\n",
        "print(tokens)\n",
        "print(\"No of tokens : \",len(tokens))"
      ],
      "metadata": {
        "colab": {
          "base_uri": "https://localhost:8080/"
        },
        "id": "_Q7Taur_umXW",
        "outputId": "cc2546d1-b9b5-4972-8195-fdf4394d0687"
      },
      "execution_count": 4,
      "outputs": [
        {
          "output_type": "stream",
          "name": "stdout",
          "text": [
            "['the', 'punishment', 'assigned', 'to', 'a', 'defendant', 'found', 'guilty', 'by', 'a', 'court', 'Or', 'fixed', 'by', 'law', 'for', 'a', 'particular', 'offence']\n",
            "No of tokens :  19\n"
          ]
        }
      ]
    },
    {
      "cell_type": "code",
      "source": [
        "sentences = re.compile('[.?!] ').split(text)\n",
        "print(sentences)\n",
        "print(\"No of sentences : \",len(sentences))"
      ],
      "metadata": {
        "colab": {
          "base_uri": "https://localhost:8080/"
        },
        "id": "iM1TbK7BupG-",
        "outputId": "6fd3f524-ffb3-400d-cafd-2c1ee4c94019"
      },
      "execution_count": 5,
      "outputs": [
        {
          "output_type": "stream",
          "name": "stdout",
          "text": [
            "['the punishment assigned to a defendant found guilty by a court', 'Or fixed by law for a particular offence']\n",
            "No of sentences :  2\n"
          ]
        }
      ]
    },
    {
      "cell_type": "code",
      "source": [
        "!pip install --user -U nltk\n"
      ],
      "metadata": {
        "colab": {
          "base_uri": "https://localhost:8080/"
        },
        "id": "lseJU3EaureH",
        "outputId": "2446ae1b-2047-43c1-ddb5-6f45ab9ac3b0"
      },
      "execution_count": 6,
      "outputs": [
        {
          "output_type": "stream",
          "name": "stdout",
          "text": [
            "Looking in indexes: https://pypi.org/simple, https://us-python.pkg.dev/colab-wheels/public/simple/\n",
            "Requirement already satisfied: nltk in /usr/local/lib/python3.10/dist-packages (3.8.1)\n",
            "Requirement already satisfied: click in /usr/local/lib/python3.10/dist-packages (from nltk) (8.1.3)\n",
            "Requirement already satisfied: joblib in /usr/local/lib/python3.10/dist-packages (from nltk) (1.2.0)\n",
            "Requirement already satisfied: regex>=2021.8.3 in /usr/local/lib/python3.10/dist-packages (from nltk) (2022.10.31)\n",
            "Requirement already satisfied: tqdm in /usr/local/lib/python3.10/dist-packages (from nltk) (4.65.0)\n"
          ]
        }
      ]
    },
    {
      "cell_type": "code",
      "source": [
        "import nltk\n",
        "nltk.download('punkt')"
      ],
      "metadata": {
        "colab": {
          "base_uri": "https://localhost:8080/"
        },
        "id": "aja9d_DnuxBi",
        "outputId": "f0a3f40d-4a51-4c9e-bc2d-ce3ba9cdd2c4"
      },
      "execution_count": 7,
      "outputs": [
        {
          "output_type": "stream",
          "name": "stderr",
          "text": [
            "[nltk_data] Downloading package punkt to /root/nltk_data...\n",
            "[nltk_data]   Unzipping tokenizers/punkt.zip.\n"
          ]
        },
        {
          "output_type": "execute_result",
          "data": {
            "text/plain": [
              "True"
            ]
          },
          "metadata": {},
          "execution_count": 7
        }
      ]
    },
    {
      "cell_type": "code",
      "source": [
        "from nltk.tokenize import word_tokenize \n",
        "tokens = word_tokenize(text)\n",
        "print(tokens)\n",
        "print(\"No.of tokens : \", len(tokens))"
      ],
      "metadata": {
        "colab": {
          "base_uri": "https://localhost:8080/"
        },
        "id": "nhMJRfEmu2BH",
        "outputId": "abe65ef3-97c6-48bb-b706-4ca1b0c95a7a"
      },
      "execution_count": 8,
      "outputs": [
        {
          "output_type": "stream",
          "name": "stdout",
          "text": [
            "['the', 'punishment', 'assigned', 'to', 'a', 'defendant', 'found', 'guilty', 'by', 'a', 'court', '.', 'Or', 'fixed', 'by', 'law', 'for', 'a', 'particular', 'offence']\n",
            "No.of tokens :  20\n"
          ]
        }
      ]
    },
    {
      "cell_type": "code",
      "source": [
        "#sentence tokenization\n",
        "from nltk.tokenize import sent_tokenize\n",
        "sentences = sent_tokenize(text)\n",
        "print(sentences)\n",
        "print(\"No.of sentences : \", len(sentences))"
      ],
      "metadata": {
        "colab": {
          "base_uri": "https://localhost:8080/"
        },
        "id": "IS8EgZQ4u_Bp",
        "outputId": "d2c2684d-644f-4e4d-b368-a5a80a7f616e"
      },
      "execution_count": 9,
      "outputs": [
        {
          "output_type": "stream",
          "name": "stdout",
          "text": [
            "['the punishment assigned to a defendant found guilty by a court.', 'Or fixed by law for a particular offence']\n",
            "No.of sentences :  2\n"
          ]
        }
      ]
    },
    {
      "cell_type": "code",
      "source": [
        "from nltk.stem import PorterStemmer"
      ],
      "metadata": {
        "id": "bHOEvYylvCX6"
      },
      "execution_count": 10,
      "outputs": []
    },
    {
      "cell_type": "code",
      "source": [
        "porter = PorterStemmer()\n",
        "print(porter.stem(\"Boys\"))\n",
        "print(porter.stem(\"Shouting\"))"
      ],
      "metadata": {
        "colab": {
          "base_uri": "https://localhost:8080/"
        },
        "id": "o4t03Nr-vFIP",
        "outputId": "446a168b-7a42-4252-dcad-66c4250d98c3"
      },
      "execution_count": 11,
      "outputs": [
        {
          "output_type": "stream",
          "name": "stdout",
          "text": [
            "boy\n",
            "shout\n"
          ]
        }
      ]
    }
  ]
}